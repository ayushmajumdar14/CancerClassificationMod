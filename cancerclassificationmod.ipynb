{
  "nbformat": 4,
  "nbformat_minor": 0,
  "metadata": {
    "colab": {
      "provenance": [],
      "authorship_tag": "ABX9TyNuR8lsoCoA9Ere3EL/FTWe"
    },
    "kernelspec": {
      "name": "python3",
      "display_name": "Python 3"
    },
    "language_info": {
      "name": "python"
    }
  },
  "cells": [
    {
      "cell_type": "code",
      "execution_count": null,
      "metadata": {
        "id": "cO5NeIoSuPWx"
      },
      "outputs": [],
      "source": [
        "import numpy as np\n",
        "import pandas as pd\n",
        "import matplotlib.pyplot as plt\n",
        "import sklearn.datasets\n",
        "\n",
        "from sklearn.datasets import fetch_california_housing\n",
        "from sklearn.model_selection import train_test_split\n",
        "from sklearn.datasets import load_iris\n",
        "\n"
      ]
    },
    {
      "cell_type": "code",
      "source": [
        "breast_cancer_dataset = sklearn.datasets.load_breast_cancer()\n",
        "#print(breast_cancer_dataset)\n",
        "\n",
        "data_frame = pd.DataFrame(breast_cancer_dataset.data, columns = breast_cancer_dataset.feature_names)\n",
        "data_frame.head()\n",
        "\n",
        "data_frame[\"label\"] = breast_cancer_dataset.target\n",
        "data_frame.tail()\n",
        "data_frame.shape\n",
        "data_frame.info()\n",
        "\n",
        "data_frame.isnull().sum()\n",
        "\n",
        "data_frame.describe()\n",
        "\n",
        "data_frame[\"label\"].value_counts()\n",
        "\n",
        "data_frame.groupby(\"label\").mean()\n",
        "\n",
        "X = data_frame.drop(columns = \"label\", axis = 1)\n",
        "Y = data_frame[\"label\"]\n",
        "\n",
        "print(X)\n",
        "print(Y)\n",
        "\n",
        "from sklearn.preprocessing import StandardScaler\n",
        "\n",
        "scaler = StandardScaler()\n",
        "\n",
        "standardized_data = scaler.fit_transform(X)\n",
        "\n",
        "print(standardized_data)\n",
        "\n",
        "X = standardized_data\n",
        "print(X)\n",
        "\n",
        "print(Y)\n",
        "\n",
        "X_train, X_test, Y_train, Y_test = train_test_split(X, Y, test_size = 0.2, random_state = 2)\n",
        "\n",
        "print(\"Total data: \", X.shape)\n",
        "print(\"Train data: \", X_train.shape)\n",
        "print(\"Test data: \", X_test.shape)\n",
        "\n"
      ],
      "metadata": {
        "colab": {
          "base_uri": "https://localhost:8080/"
        },
        "id": "SJkqCUm1_S91",
        "outputId": "16bc2ba3-4a59-4095-d5a7-5be14367557e"
      },
      "execution_count": null,
      "outputs": [
        {
          "output_type": "stream",
          "name": "stdout",
          "text": [
            "<class 'pandas.core.frame.DataFrame'>\n",
            "RangeIndex: 569 entries, 0 to 568\n",
            "Data columns (total 31 columns):\n",
            " #   Column                   Non-Null Count  Dtype  \n",
            "---  ------                   --------------  -----  \n",
            " 0   mean radius              569 non-null    float64\n",
            " 1   mean texture             569 non-null    float64\n",
            " 2   mean perimeter           569 non-null    float64\n",
            " 3   mean area                569 non-null    float64\n",
            " 4   mean smoothness          569 non-null    float64\n",
            " 5   mean compactness         569 non-null    float64\n",
            " 6   mean concavity           569 non-null    float64\n",
            " 7   mean concave points      569 non-null    float64\n",
            " 8   mean symmetry            569 non-null    float64\n",
            " 9   mean fractal dimension   569 non-null    float64\n",
            " 10  radius error             569 non-null    float64\n",
            " 11  texture error            569 non-null    float64\n",
            " 12  perimeter error          569 non-null    float64\n",
            " 13  area error               569 non-null    float64\n",
            " 14  smoothness error         569 non-null    float64\n",
            " 15  compactness error        569 non-null    float64\n",
            " 16  concavity error          569 non-null    float64\n",
            " 17  concave points error     569 non-null    float64\n",
            " 18  symmetry error           569 non-null    float64\n",
            " 19  fractal dimension error  569 non-null    float64\n",
            " 20  worst radius             569 non-null    float64\n",
            " 21  worst texture            569 non-null    float64\n",
            " 22  worst perimeter          569 non-null    float64\n",
            " 23  worst area               569 non-null    float64\n",
            " 24  worst smoothness         569 non-null    float64\n",
            " 25  worst compactness        569 non-null    float64\n",
            " 26  worst concavity          569 non-null    float64\n",
            " 27  worst concave points     569 non-null    float64\n",
            " 28  worst symmetry           569 non-null    float64\n",
            " 29  worst fractal dimension  569 non-null    float64\n",
            " 30  label                    569 non-null    int64  \n",
            "dtypes: float64(30), int64(1)\n",
            "memory usage: 137.9 KB\n",
            "     mean radius  mean texture  mean perimeter  mean area  mean smoothness  \\\n",
            "0          17.99         10.38          122.80     1001.0          0.11840   \n",
            "1          20.57         17.77          132.90     1326.0          0.08474   \n",
            "2          19.69         21.25          130.00     1203.0          0.10960   \n",
            "3          11.42         20.38           77.58      386.1          0.14250   \n",
            "4          20.29         14.34          135.10     1297.0          0.10030   \n",
            "..           ...           ...             ...        ...              ...   \n",
            "564        21.56         22.39          142.00     1479.0          0.11100   \n",
            "565        20.13         28.25          131.20     1261.0          0.09780   \n",
            "566        16.60         28.08          108.30      858.1          0.08455   \n",
            "567        20.60         29.33          140.10     1265.0          0.11780   \n",
            "568         7.76         24.54           47.92      181.0          0.05263   \n",
            "\n",
            "     mean compactness  mean concavity  mean concave points  mean symmetry  \\\n",
            "0             0.27760         0.30010              0.14710         0.2419   \n",
            "1             0.07864         0.08690              0.07017         0.1812   \n",
            "2             0.15990         0.19740              0.12790         0.2069   \n",
            "3             0.28390         0.24140              0.10520         0.2597   \n",
            "4             0.13280         0.19800              0.10430         0.1809   \n",
            "..                ...             ...                  ...            ...   \n",
            "564           0.11590         0.24390              0.13890         0.1726   \n",
            "565           0.10340         0.14400              0.09791         0.1752   \n",
            "566           0.10230         0.09251              0.05302         0.1590   \n",
            "567           0.27700         0.35140              0.15200         0.2397   \n",
            "568           0.04362         0.00000              0.00000         0.1587   \n",
            "\n",
            "     mean fractal dimension  ...  worst radius  worst texture  \\\n",
            "0                   0.07871  ...        25.380          17.33   \n",
            "1                   0.05667  ...        24.990          23.41   \n",
            "2                   0.05999  ...        23.570          25.53   \n",
            "3                   0.09744  ...        14.910          26.50   \n",
            "4                   0.05883  ...        22.540          16.67   \n",
            "..                      ...  ...           ...            ...   \n",
            "564                 0.05623  ...        25.450          26.40   \n",
            "565                 0.05533  ...        23.690          38.25   \n",
            "566                 0.05648  ...        18.980          34.12   \n",
            "567                 0.07016  ...        25.740          39.42   \n",
            "568                 0.05884  ...         9.456          30.37   \n",
            "\n",
            "     worst perimeter  worst area  worst smoothness  worst compactness  \\\n",
            "0             184.60      2019.0           0.16220            0.66560   \n",
            "1             158.80      1956.0           0.12380            0.18660   \n",
            "2             152.50      1709.0           0.14440            0.42450   \n",
            "3              98.87       567.7           0.20980            0.86630   \n",
            "4             152.20      1575.0           0.13740            0.20500   \n",
            "..               ...         ...               ...                ...   \n",
            "564           166.10      2027.0           0.14100            0.21130   \n",
            "565           155.00      1731.0           0.11660            0.19220   \n",
            "566           126.70      1124.0           0.11390            0.30940   \n",
            "567           184.60      1821.0           0.16500            0.86810   \n",
            "568            59.16       268.6           0.08996            0.06444   \n",
            "\n",
            "     worst concavity  worst concave points  worst symmetry  \\\n",
            "0             0.7119                0.2654          0.4601   \n",
            "1             0.2416                0.1860          0.2750   \n",
            "2             0.4504                0.2430          0.3613   \n",
            "3             0.6869                0.2575          0.6638   \n",
            "4             0.4000                0.1625          0.2364   \n",
            "..               ...                   ...             ...   \n",
            "564           0.4107                0.2216          0.2060   \n",
            "565           0.3215                0.1628          0.2572   \n",
            "566           0.3403                0.1418          0.2218   \n",
            "567           0.9387                0.2650          0.4087   \n",
            "568           0.0000                0.0000          0.2871   \n",
            "\n",
            "     worst fractal dimension  \n",
            "0                    0.11890  \n",
            "1                    0.08902  \n",
            "2                    0.08758  \n",
            "3                    0.17300  \n",
            "4                    0.07678  \n",
            "..                       ...  \n",
            "564                  0.07115  \n",
            "565                  0.06637  \n",
            "566                  0.07820  \n",
            "567                  0.12400  \n",
            "568                  0.07039  \n",
            "\n",
            "[569 rows x 30 columns]\n",
            "0      0\n",
            "1      0\n",
            "2      0\n",
            "3      0\n",
            "4      0\n",
            "      ..\n",
            "564    0\n",
            "565    0\n",
            "566    0\n",
            "567    0\n",
            "568    1\n",
            "Name: label, Length: 569, dtype: int64\n",
            "[[ 1.09706398 -2.07333501  1.26993369 ...  2.29607613  2.75062224\n",
            "   1.93701461]\n",
            " [ 1.82982061 -0.35363241  1.68595471 ...  1.0870843  -0.24388967\n",
            "   0.28118999]\n",
            " [ 1.57988811  0.45618695  1.56650313 ...  1.95500035  1.152255\n",
            "   0.20139121]\n",
            " ...\n",
            " [ 0.70228425  2.0455738   0.67267578 ...  0.41406869 -1.10454895\n",
            "  -0.31840916]\n",
            " [ 1.83834103  2.33645719  1.98252415 ...  2.28998549  1.91908301\n",
            "   2.21963528]\n",
            " [-1.80840125  1.22179204 -1.81438851 ... -1.74506282 -0.04813821\n",
            "  -0.75120669]]\n",
            "[[ 1.09706398 -2.07333501  1.26993369 ...  2.29607613  2.75062224\n",
            "   1.93701461]\n",
            " [ 1.82982061 -0.35363241  1.68595471 ...  1.0870843  -0.24388967\n",
            "   0.28118999]\n",
            " [ 1.57988811  0.45618695  1.56650313 ...  1.95500035  1.152255\n",
            "   0.20139121]\n",
            " ...\n",
            " [ 0.70228425  2.0455738   0.67267578 ...  0.41406869 -1.10454895\n",
            "  -0.31840916]\n",
            " [ 1.83834103  2.33645719  1.98252415 ...  2.28998549  1.91908301\n",
            "   2.21963528]\n",
            " [-1.80840125  1.22179204 -1.81438851 ... -1.74506282 -0.04813821\n",
            "  -0.75120669]]\n",
            "0      0\n",
            "1      0\n",
            "2      0\n",
            "3      0\n",
            "4      0\n",
            "      ..\n",
            "564    0\n",
            "565    0\n",
            "566    0\n",
            "567    0\n",
            "568    1\n",
            "Name: label, Length: 569, dtype: int64\n",
            "Total data:  (569, 30)\n",
            "Train data:  (455, 30)\n",
            "Test data:  (114, 30)\n"
          ]
        }
      ]
    },
    {
      "cell_type": "code",
      "source": [
        "import tensorflow as tf\n",
        "tf.random.set_seed(3)\n",
        "from tensorflow import keras"
      ],
      "metadata": {
        "id": "SpwAA-zr_pkk"
      },
      "execution_count": null,
      "outputs": []
    },
    {
      "cell_type": "code",
      "source": [
        "model = keras.Sequential([\n",
        "    keras.layers.Flatten(input_shape = (30,)),\n",
        "    keras.layers.Dense(20, activation = 'relu'),\n",
        "    keras.layers.Dense(2, activation = \"sigmoid\")\n",
        "])\n"
      ],
      "metadata": {
        "id": "lRyerwY-CF79"
      },
      "execution_count": null,
      "outputs": []
    },
    {
      "cell_type": "code",
      "source": [
        "model.compile(optimizer = \"adam\", loss = \"sparse_categorical_crossentropy\", metrics = [\"accuracy\"])\n"
      ],
      "metadata": {
        "id": "w8cVjgZ5Gk1R"
      },
      "execution_count": null,
      "outputs": []
    },
    {
      "cell_type": "code",
      "source": [
        "history = model.fit(X_train, Y_train, validation_split = 0.1, epochs = 10)"
      ],
      "metadata": {
        "colab": {
          "base_uri": "https://localhost:8080/"
        },
        "id": "vMV_LDobHMGs",
        "outputId": "95d3624a-b4af-4b0b-92c4-386fbc9de616"
      },
      "execution_count": null,
      "outputs": [
        {
          "output_type": "stream",
          "name": "stdout",
          "text": [
            "Epoch 1/10\n",
            "13/13 [==============================] - 1s 19ms/step - loss: 0.7331 - accuracy: 0.5330 - val_loss: 0.5311 - val_accuracy: 0.7174\n",
            "Epoch 2/10\n",
            "13/13 [==============================] - 0s 4ms/step - loss: 0.4943 - accuracy: 0.8264 - val_loss: 0.3815 - val_accuracy: 0.8696\n",
            "Epoch 3/10\n",
            "13/13 [==============================] - 0s 4ms/step - loss: 0.3676 - accuracy: 0.8973 - val_loss: 0.3013 - val_accuracy: 0.9130\n",
            "Epoch 4/10\n",
            "13/13 [==============================] - 0s 6ms/step - loss: 0.2969 - accuracy: 0.9095 - val_loss: 0.2536 - val_accuracy: 0.9565\n",
            "Epoch 5/10\n",
            "13/13 [==============================] - 0s 4ms/step - loss: 0.2500 - accuracy: 0.9242 - val_loss: 0.2225 - val_accuracy: 0.9565\n",
            "Epoch 6/10\n",
            "13/13 [==============================] - 0s 4ms/step - loss: 0.2186 - accuracy: 0.9315 - val_loss: 0.1994 - val_accuracy: 0.9565\n",
            "Epoch 7/10\n",
            "13/13 [==============================] - 0s 5ms/step - loss: 0.1944 - accuracy: 0.9364 - val_loss: 0.1816 - val_accuracy: 0.9783\n",
            "Epoch 8/10\n",
            "13/13 [==============================] - 0s 5ms/step - loss: 0.1760 - accuracy: 0.9364 - val_loss: 0.1668 - val_accuracy: 0.9783\n",
            "Epoch 9/10\n",
            "13/13 [==============================] - 0s 4ms/step - loss: 0.1618 - accuracy: 0.9438 - val_loss: 0.1535 - val_accuracy: 0.9783\n",
            "Epoch 10/10\n",
            "13/13 [==============================] - 0s 5ms/step - loss: 0.1484 - accuracy: 0.9511 - val_loss: 0.1433 - val_accuracy: 0.9783\n"
          ]
        }
      ]
    },
    {
      "cell_type": "code",
      "source": [
        "plt.plot(history.history[\"accuracy\"])\n",
        "plt.plot(history.history[\"val_accuracy\"])\n",
        "\n",
        "plt.title(\"Model Accuracy\")\n",
        "plt.ylabel(\"accuracy\")\n",
        "plt.xlabel(\"epoch\")\n",
        "\n",
        "plt.legend([\"training\", \"validation\"],loc = \"lower right\")"
      ],
      "metadata": {
        "colab": {
          "base_uri": "https://localhost:8080/",
          "height": 490
        },
        "id": "rVsxNvUlHVU3",
        "outputId": "e8300b08-764a-455b-afaa-c9dfe78ee7ee"
      },
      "execution_count": null,
      "outputs": [
        {
          "output_type": "execute_result",
          "data": {
            "text/plain": [
              "<matplotlib.legend.Legend at 0x788d3e103040>"
            ]
          },
          "metadata": {},
          "execution_count": 17
        },
        {
          "output_type": "display_data",
          "data": {
            "text/plain": [
              "<Figure size 640x480 with 1 Axes>"
            ],
            "image/png": "[encoded data removed]"
          },
          "metadata": {}
        }
      ]
    },
    {
      "cell_type": "code",
      "source": [
        "plt.plot(history.history[\"loss\"])\n",
        "plt.plot(history.history[\"val_loss\"])\n",
        "\n",
        "plt.title(\"Model Loss\")\n",
        "plt.ylabel(\"loss\")\n",
        "plt.xlabel(\"epoch\")\n",
        "\n",
        "plt.legend([\"training\",\"validation\"], loc = \"upper right\")"
      ],
      "metadata": {
        "colab": {
          "base_uri": "https://localhost:8080/",
          "height": 490
        },
        "id": "QPMkq3cdHyr8",
        "outputId": "d5644381-e2b6-4769-fe5d-6215630e067a"
      },
      "execution_count": null,
      "outputs": [
        {
          "output_type": "execute_result",
          "data": {
            "text/plain": [
              "<matplotlib.legend.Legend at 0x788d3dd2ee30>"
            ]
          },
          "metadata": {},
          "execution_count": 19
        },
        {
          "output_type": "display_data",
          "data": {
            "text/plain": [
              "<Figure size 640x480 with 1 Axes>"
            ],
            "image/png": "[encoded data removed]"
          },
          "metadata": {}
        }
      ]
    },
    {
      "cell_type": "code",
      "source": [
        "loss, accuracy = model.evaluate(X_test, Y_test)"
      ],
      "metadata": {
        "colab": {
          "base_uri": "https://localhost:8080/"
        },
        "id": "2boVwr8YIu3S",
        "outputId": "0c5b5e6e-3a16-4311-eb07-2388719088a5"
      },
      "execution_count": null,
      "outputs": [
        {
          "output_type": "stream",
          "name": "stdout",
          "text": [
            "4/4 [==============================] - 0s 3ms/step - loss: 0.1302 - accuracy: 0.9649\n"
          ]
        }
      ]
    },
    {
      "cell_type": "code",
      "source": [
        "print(accuracy)"
      ],
      "metadata": {
        "colab": {
          "base_uri": "https://localhost:8080/"
        },
        "id": "MU4En7akI7fy",
        "outputId": "f94638de-1b39-4819-e54f-747941560011"
      },
      "execution_count": null,
      "outputs": [
        {
          "output_type": "stream",
          "name": "stdout",
          "text": [
            "0.9649122953414917\n"
          ]
        }
      ]
    },
    {
      "cell_type": "code",
      "source": [
        "print(X_test.shape)"
      ],
      "metadata": {
        "colab": {
          "base_uri": "https://localhost:8080/"
        },
        "id": "gLvD74MyI9S_",
        "outputId": "ff90a223-2e1c-4b74-8038-3b580384984e"
      },
      "execution_count": null,
      "outputs": [
        {
          "output_type": "stream",
          "name": "stdout",
          "text": [
            "(114, 30)\n"
          ]
        }
      ]
    },
    {
      "cell_type": "code",
      "source": [
        "print(X_test[0])"
      ],
      "metadata": {
        "colab": {
          "base_uri": "https://localhost:8080/"
        },
        "id": "QaGFkFD5JC55",
        "outputId": "45cbce93-6d95-4fee-c8e3-1537be7dbfe9"
      },
      "execution_count": null,
      "outputs": [
        {
          "output_type": "stream",
          "name": "stdout",
          "text": [
            "[-0.05319351 -1.42408329 -0.06833592 -0.17260604  2.02392516 -0.1286992\n",
            "  0.15317924  0.44445235  0.60014708  0.25125475  0.50863855  2.57300558\n",
            "  0.60638318  0.09687179  0.99971423  0.3907719   0.52176832  2.71439431\n",
            " -0.41073446  0.65554594 -0.3415184  -1.67683887 -0.3795077  -0.3995439\n",
            "  0.30822795 -0.74978636 -0.55789673 -0.19956318 -1.19838023 -0.63261684]\n"
          ]
        }
      ]
    },
    {
      "cell_type": "code",
      "source": [
        "Y_pred = model.predict(X_test)"
      ],
      "metadata": {
        "colab": {
          "base_uri": "https://localhost:8080/"
        },
        "id": "_7FwHUAzJFnx",
        "outputId": "9b8a3b43-67ce-46eb-8e5e-3775208af27b"
      },
      "execution_count": null,
      "outputs": [
        {
          "output_type": "stream",
          "name": "stdout",
          "text": [
            "4/4 [==============================] - 0s 4ms/step\n"
          ]
        }
      ]
    },
    {
      "cell_type": "code",
      "source": [
        "print(Y_pred.shape)"
      ],
      "metadata": {
        "colab": {
          "base_uri": "https://localhost:8080/"
        },
        "id": "g3x1LO95JJog",
        "outputId": "c7d986d3-a588-467b-83b2-42872caab081"
      },
      "execution_count": null,
      "outputs": [
        {
          "output_type": "stream",
          "name": "stdout",
          "text": [
            "(114, 2)\n"
          ]
        }
      ]
    },
    {
      "cell_type": "code",
      "source": [
        "print(Y_pred)"
      ],
      "metadata": {
        "colab": {
          "base_uri": "https://localhost:8080/"
        },
        "id": "SUKjE_SyJNqP",
        "outputId": "52839b05-4f55-4403-c86e-ff5a052c0c25"
      },
      "execution_count": null,
      "outputs": [
        {
          "output_type": "stream",
          "name": "stdout",
          "text": [
            "[[3.67498577e-01 7.47106671e-01]\n",
            " [3.12207580e-01 4.87977594e-01]\n",
            " [9.71883386e-02 8.78852904e-01]\n",
            " [9.31283593e-01 8.37049214e-04]\n",
            " [4.31524724e-01 4.69530463e-01]\n",
            " [9.17229533e-01 1.42335473e-02]\n",
            " [3.78261149e-01 6.74439371e-01]\n",
            " [6.88096806e-02 8.76130223e-01]\n",
            " [1.75131381e-01 7.48510957e-01]\n",
            " [1.09871984e-01 8.89436901e-01]\n",
            " [3.92725587e-01 4.83727545e-01]\n",
            " [2.03743592e-01 7.23467410e-01]\n",
            " [2.42607296e-01 7.65748322e-01]\n",
            " [2.93035537e-01 6.46605372e-01]\n",
            " [1.53264344e-01 8.26259375e-01]\n",
            " [6.36732996e-01 6.04581535e-02]\n",
            " [9.27581564e-02 8.82174790e-01]\n",
            " [2.31138557e-01 8.07973981e-01]\n",
            " [2.01097131e-01 8.30525398e-01]\n",
            " [8.63872468e-01 1.86500661e-02]\n",
            " [3.34535390e-01 7.55713284e-01]\n",
            " [1.11123167e-01 8.73654306e-01]\n",
            " [1.28611848e-01 8.06459010e-01]\n",
            " [7.68750980e-02 9.16855752e-01]\n",
            " [2.33656168e-01 7.78491735e-01]\n",
            " [7.99246609e-01 9.37553570e-02]\n",
            " [3.16828460e-01 7.12203741e-01]\n",
            " [3.33663076e-01 5.40927649e-01]\n",
            " [7.86187708e-01 1.88022450e-01]\n",
            " [7.88585901e-01 7.98795149e-02]\n",
            " [1.34052053e-01 7.68342555e-01]\n",
            " [1.86787084e-01 7.48174191e-01]\n",
            " [1.34040713e-01 8.41012836e-01]\n",
            " [9.70331669e-01 1.01545826e-02]\n",
            " [7.68638909e-01 7.75752142e-02]\n",
            " [3.40628803e-01 6.55104160e-01]\n",
            " [4.47161086e-02 8.95776153e-01]\n",
            " [2.10873634e-01 5.78550398e-01]\n",
            " [1.48261890e-01 8.81677270e-01]\n",
            " [1.84010670e-01 8.10976446e-01]\n",
            " [9.38528419e-01 2.87546171e-03]\n",
            " [6.21287882e-01 2.55953282e-01]\n",
            " [8.87840986e-02 9.12779570e-01]\n",
            " [2.43151665e-01 8.19022596e-01]\n",
            " [6.37437403e-01 2.44798511e-01]\n",
            " [1.05536349e-01 8.34898472e-01]\n",
            " [8.48291591e-02 8.97478402e-01]\n",
            " [1.43673688e-01 9.06854153e-01]\n",
            " [9.42986131e-01 1.18024880e-02]\n",
            " [7.19662905e-01 1.14808001e-01]\n",
            " [8.87395069e-02 8.83351386e-01]\n",
            " [5.20351589e-01 2.72607565e-01]\n",
            " [3.82233292e-01 6.36513233e-01]\n",
            " [1.25169441e-01 8.37587178e-01]\n",
            " [1.43237978e-01 8.56941402e-01]\n",
            " [3.49772424e-01 4.23376054e-01]\n",
            " [3.54135692e-01 7.69993007e-01]\n",
            " [2.05173448e-01 8.66758287e-01]\n",
            " [8.45561445e-01 9.21470001e-02]\n",
            " [2.77416289e-01 6.86491489e-01]\n",
            " [3.53781819e-01 6.01778209e-01]\n",
            " [7.28148937e-01 6.43530637e-02]\n",
            " [8.58615190e-02 8.80045056e-01]\n",
            " [7.00693727e-01 9.44934711e-02]\n",
            " [5.97816467e-01 2.19793364e-01]\n",
            " [6.36678934e-01 6.00358546e-01]\n",
            " [9.06835556e-01 1.45625025e-02]\n",
            " [5.61854005e-01 2.06805199e-01]\n",
            " [2.20185161e-01 7.86258996e-01]\n",
            " [6.45900011e-01 3.45341533e-01]\n",
            " [6.97451949e-01 1.94182128e-01]\n",
            " [7.97484279e-01 1.64338797e-02]\n",
            " [1.75170749e-01 7.59670436e-01]\n",
            " [6.04715943e-01 1.60795599e-01]\n",
            " [8.17039907e-02 8.99716735e-01]\n",
            " [5.86573720e-01 2.54332125e-01]\n",
            " [1.72184572e-01 8.24151099e-01]\n",
            " [6.55953661e-02 9.00368094e-01]\n",
            " [2.38532931e-01 7.37820387e-01]\n",
            " [5.44426918e-01 1.99954510e-01]\n",
            " [7.94909894e-01 6.29033372e-02]\n",
            " [6.82840407e-01 1.78948104e-01]\n",
            " [7.77983367e-01 4.23851088e-02]\n",
            " [3.02377343e-01 5.66982567e-01]\n",
            " [2.01037213e-01 7.58223176e-01]\n",
            " [3.84976476e-01 5.94048262e-01]\n",
            " [3.04883599e-01 7.73842454e-01]\n",
            " [1.39325187e-01 8.14911723e-01]\n",
            " [3.94436479e-01 6.45656526e-01]\n",
            " [8.50085974e-01 8.52905121e-03]\n",
            " [2.03293100e-01 7.53040314e-01]\n",
            " [1.49324894e-01 7.56847680e-01]\n",
            " [3.32389027e-01 7.63194025e-01]\n",
            " [7.52181709e-01 1.66363597e-01]\n",
            " [5.37421525e-01 1.87362432e-01]\n",
            " [1.70924976e-01 7.67988980e-01]\n",
            " [7.51083374e-01 4.20650430e-02]\n",
            " [7.83503830e-01 6.60956055e-02]\n",
            " [1.88663483e-01 6.80063844e-01]\n",
            " [6.30926862e-02 8.95639360e-01]\n",
            " [3.33038643e-02 9.31732178e-01]\n",
            " [6.17297292e-01 3.08853686e-01]\n",
            " [9.37151253e-01 3.84558039e-03]\n",
            " [8.75330806e-01 9.25000943e-03]\n",
            " [1.71350986e-01 6.77932501e-01]\n",
            " [1.32502034e-01 8.78689826e-01]\n",
            " [2.02645540e-01 7.19468296e-01]\n",
            " [2.24946320e-01 8.70026350e-01]\n",
            " [1.86876789e-01 9.55436289e-01]\n",
            " [3.06874335e-01 6.98741615e-01]\n",
            " [8.29093695e-01 3.57804149e-02]\n",
            " [8.82569909e-01 1.67890321e-02]\n",
            " [3.87554765e-01 3.55228424e-01]\n",
            " [6.56574667e-01 7.69052655e-02]]\n"
          ]
        }
      ]
    },
    {
      "cell_type": "code",
      "source": [
        "Y_pred_labels = [np.argmax(i) for i in Y_pred]\n"
      ],
      "metadata": {
        "id": "-yIVw5bPJYPs"
      },
      "execution_count": null,
      "outputs": []
    },
    {
      "cell_type": "code",
      "source": [
        "print(Y_pred_labels)"
      ],
      "metadata": {
        "colab": {
          "base_uri": "https://localhost:8080/"
        },
        "id": "fY6RGZMtKBTh",
        "outputId": "cd195a45-f979-4183-97b1-ca417f2ab58c"
      },
      "execution_count": null,
      "outputs": [
        {
          "output_type": "stream",
          "name": "stdout",
          "text": [
            "[1, 1, 1, 0, 1, 0, 1, 1, 1, 1, 1, 1, 1, 1, 1, 0, 1, 1, 1, 0, 1, 1, 1, 1, 1, 0, 1, 1, 0, 0, 1, 1, 1, 0, 0, 1, 1, 1, 1, 1, 0, 0, 1, 1, 0, 1, 1, 1, 0, 0, 1, 0, 1, 1, 1, 1, 1, 1, 0, 1, 1, 0, 1, 0, 0, 0, 0, 0, 1, 0, 0, 0, 1, 0, 1, 0, 1, 1, 1, 0, 0, 0, 0, 1, 1, 1, 1, 1, 1, 0, 1, 1, 1, 0, 0, 1, 0, 0, 1, 1, 1, 0, 0, 0, 1, 1, 1, 1, 1, 1, 0, 0, 0, 0]\n"
          ]
        }
      ]
    }
  ]
}