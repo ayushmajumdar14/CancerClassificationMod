{
  "nbformat": 4,
  "nbformat_minor": 0,
  "metadata": {
    "colab": {
      "provenance": [],
      "authorship_tag": "ABX9TyMmevAW4XyQviFyFXDo1DY8"
    },
    "kernelspec": {
      "name": "python3",
      "display_name": "Python 3"
    },
    "language_info": {
      "name": "python"
    }
  },
  "cells": [
    {
      "cell_type": "code",
      "execution_count": 3,
      "metadata": {
        "id": "cO5NeIoSuPWx"
      },
      "outputs": [],
      "source": [
        "import numpy as np\n",
        "import pandas as pd\n",
        "import matplotlib.pyplot as plt\n",
        "import sklearn.datasets\n",
        "\n",
        "from sklearn.datasets import fetch_california_housing\n",
        "from sklearn.model_selection import train_test_split\n",
        "from sklearn.datasets import load_iris\n",
        "\n"
      ]
    },
    {
      "cell_type": "code",
      "source": [],
      "metadata": {
        "id": "NHuVYMLSf4sw"
      },
      "execution_count": null,
      "outputs": []
    },
    {
      "cell_type": "code",
      "source": [
        "breast_cancer_dataset = sklearn.datasets.load_breast_cancer()\n",
        "#print(breast_cancer_dataset)\n",
        "\n",
        "data_frame = pd.DataFrame(breast_cancer_dataset.data, columns = breast_cancer_dataset.feature_names)\n",
        "data_frame.head()\n",
        "\n",
        "data_frame[\"label\"] = breast_cancer_dataset.target\n",
        "data_frame.tail()\n",
        "data_frame.shape\n",
        "data_frame.info()\n",
        "\n",
        "data_frame.isnull().sum()\n",
        "\n",
        "data_frame.describe()\n",
        "\n",
        "data_frame[\"label\"].value_counts()\n",
        "\n",
        "data_frame.groupby(\"label\").mean()\n",
        "\n",
        "X = data_frame.drop(columns = \"label\", axis = 1)\n",
        "Y = data_frame[\"label\"]\n",
        "\n",
        "print(X)\n",
        "print(Y)\n",
        "\n",
        "from sklearn.preprocessing import StandardScaler\n",
        "\n",
        "scaler = StandardScaler()\n",
        "\n",
        "standardized_data = scaler.fit_transform(X)\n",
        "\n",
        "print(standardized_data)\n",
        "\n",
        "X = standardized_data\n",
        "print(X)\n",
        "\n",
        "print(Y)\n",
        "\n",
        "X_train, X_test, Y_train, Y_test = train_test_split(X, Y, test_size = 0.2, random_state = 2)\n",
        "\n",
        "print(\"Total data: \", X.shape)\n",
        "print(\"Train data: \", X_train.shape)\n",
        "print(\"Test data: \", X_test.shape)\n",
        "\n"
      ],
      "metadata": {
        "colab": {
          "base_uri": "https://localhost:8080/"
        },
        "id": "SJkqCUm1_S91",
        "outputId": "9335b313-d4ce-4587-abe0-1b159273f27b"
      },
      "execution_count": 4,
      "outputs": [
        {
          "output_type": "stream",
          "name": "stdout",
          "text": [
            "<class 'pandas.core.frame.DataFrame'>\n",
            "RangeIndex: 569 entries, 0 to 568\n",
            "Data columns (total 31 columns):\n",
            " #   Column                   Non-Null Count  Dtype  \n",
            "---  ------                   --------------  -----  \n",
            " 0   mean radius              569 non-null    float64\n",
            " 1   mean texture             569 non-null    float64\n",
            " 2   mean perimeter           569 non-null    float64\n",
            " 3   mean area                569 non-null    float64\n",
            " 4   mean smoothness          569 non-null    float64\n",
            " 5   mean compactness         569 non-null    float64\n",
            " 6   mean concavity           569 non-null    float64\n",
            " 7   mean concave points      569 non-null    float64\n",
            " 8   mean symmetry            569 non-null    float64\n",
            " 9   mean fractal dimension   569 non-null    float64\n",
            " 10  radius error             569 non-null    float64\n",
            " 11  texture error            569 non-null    float64\n",
            " 12  perimeter error          569 non-null    float64\n",
            " 13  area error               569 non-null    float64\n",
            " 14  smoothness error         569 non-null    float64\n",
            " 15  compactness error        569 non-null    float64\n",
            " 16  concavity error          569 non-null    float64\n",
            " 17  concave points error     569 non-null    float64\n",
            " 18  symmetry error           569 non-null    float64\n",
            " 19  fractal dimension error  569 non-null    float64\n",
            " 20  worst radius             569 non-null    float64\n",
            " 21  worst texture            569 non-null    float64\n",
            " 22  worst perimeter          569 non-null    float64\n",
            " 23  worst area               569 non-null    float64\n",
            " 24  worst smoothness         569 non-null    float64\n",
            " 25  worst compactness        569 non-null    float64\n",
            " 26  worst concavity          569 non-null    float64\n",
            " 27  worst concave points     569 non-null    float64\n",
            " 28  worst symmetry           569 non-null    float64\n",
            " 29  worst fractal dimension  569 non-null    float64\n",
            " 30  label                    569 non-null    int64  \n",
            "dtypes: float64(30), int64(1)\n",
            "memory usage: 137.9 KB\n",
            "     mean radius  mean texture  mean perimeter  mean area  mean smoothness  \\\n",
            "0          17.99         10.38          122.80     1001.0          0.11840   \n",
            "1          20.57         17.77          132.90     1326.0          0.08474   \n",
            "2          19.69         21.25          130.00     1203.0          0.10960   \n",
            "3          11.42         20.38           77.58      386.1          0.14250   \n",
            "4          20.29         14.34          135.10     1297.0          0.10030   \n",
            "..           ...           ...             ...        ...              ...   \n",
            "564        21.56         22.39          142.00     1479.0          0.11100   \n",
            "565        20.13         28.25          131.20     1261.0          0.09780   \n",
            "566        16.60         28.08          108.30      858.1          0.08455   \n",
            "567        20.60         29.33          140.10     1265.0          0.11780   \n",
            "568         7.76         24.54           47.92      181.0          0.05263   \n",
            "\n",
            "     mean compactness  mean concavity  mean concave points  mean symmetry  \\\n",
            "0             0.27760         0.30010              0.14710         0.2419   \n",
            "1             0.07864         0.08690              0.07017         0.1812   \n",
            "2             0.15990         0.19740              0.12790         0.2069   \n",
            "3             0.28390         0.24140              0.10520         0.2597   \n",
            "4             0.13280         0.19800              0.10430         0.1809   \n",
            "..                ...             ...                  ...            ...   \n",
            "564           0.11590         0.24390              0.13890         0.1726   \n",
            "565           0.10340         0.14400              0.09791         0.1752   \n",
            "566           0.10230         0.09251              0.05302         0.1590   \n",
            "567           0.27700         0.35140              0.15200         0.2397   \n",
            "568           0.04362         0.00000              0.00000         0.1587   \n",
            "\n",
            "     mean fractal dimension  ...  worst radius  worst texture  \\\n",
            "0                   0.07871  ...        25.380          17.33   \n",
            "1                   0.05667  ...        24.990          23.41   \n",
            "2                   0.05999  ...        23.570          25.53   \n",
            "3                   0.09744  ...        14.910          26.50   \n",
            "4                   0.05883  ...        22.540          16.67   \n",
            "..                      ...  ...           ...            ...   \n",
            "564                 0.05623  ...        25.450          26.40   \n",
            "565                 0.05533  ...        23.690          38.25   \n",
            "566                 0.05648  ...        18.980          34.12   \n",
            "567                 0.07016  ...        25.740          39.42   \n",
            "568                 0.05884  ...         9.456          30.37   \n",
            "\n",
            "     worst perimeter  worst area  worst smoothness  worst compactness  \\\n",
            "0             184.60      2019.0           0.16220            0.66560   \n",
            "1             158.80      1956.0           0.12380            0.18660   \n",
            "2             152.50      1709.0           0.14440            0.42450   \n",
            "3              98.87       567.7           0.20980            0.86630   \n",
            "4             152.20      1575.0           0.13740            0.20500   \n",
            "..               ...         ...               ...                ...   \n",
            "564           166.10      2027.0           0.14100            0.21130   \n",
            "565           155.00      1731.0           0.11660            0.19220   \n",
            "566           126.70      1124.0           0.11390            0.30940   \n",
            "567           184.60      1821.0           0.16500            0.86810   \n",
            "568            59.16       268.6           0.08996            0.06444   \n",
            "\n",
            "     worst concavity  worst concave points  worst symmetry  \\\n",
            "0             0.7119                0.2654          0.4601   \n",
            "1             0.2416                0.1860          0.2750   \n",
            "2             0.4504                0.2430          0.3613   \n",
            "3             0.6869                0.2575          0.6638   \n",
            "4             0.4000                0.1625          0.2364   \n",
            "..               ...                   ...             ...   \n",
            "564           0.4107                0.2216          0.2060   \n",
            "565           0.3215                0.1628          0.2572   \n",
            "566           0.3403                0.1418          0.2218   \n",
            "567           0.9387                0.2650          0.4087   \n",
            "568           0.0000                0.0000          0.2871   \n",
            "\n",
            "     worst fractal dimension  \n",
            "0                    0.11890  \n",
            "1                    0.08902  \n",
            "2                    0.08758  \n",
            "3                    0.17300  \n",
            "4                    0.07678  \n",
            "..                       ...  \n",
            "564                  0.07115  \n",
            "565                  0.06637  \n",
            "566                  0.07820  \n",
            "567                  0.12400  \n",
            "568                  0.07039  \n",
            "\n",
            "[569 rows x 30 columns]\n",
            "0      0\n",
            "1      0\n",
            "2      0\n",
            "3      0\n",
            "4      0\n",
            "      ..\n",
            "564    0\n",
            "565    0\n",
            "566    0\n",
            "567    0\n",
            "568    1\n",
            "Name: label, Length: 569, dtype: int64\n",
            "[[ 1.09706398 -2.07333501  1.26993369 ...  2.29607613  2.75062224\n",
            "   1.93701461]\n",
            " [ 1.82982061 -0.35363241  1.68595471 ...  1.0870843  -0.24388967\n",
            "   0.28118999]\n",
            " [ 1.57988811  0.45618695  1.56650313 ...  1.95500035  1.152255\n",
            "   0.20139121]\n",
            " ...\n",
            " [ 0.70228425  2.0455738   0.67267578 ...  0.41406869 -1.10454895\n",
            "  -0.31840916]\n",
            " [ 1.83834103  2.33645719  1.98252415 ...  2.28998549  1.91908301\n",
            "   2.21963528]\n",
            " [-1.80840125  1.22179204 -1.81438851 ... -1.74506282 -0.04813821\n",
            "  -0.75120669]]\n",
            "[[ 1.09706398 -2.07333501  1.26993369 ...  2.29607613  2.75062224\n",
            "   1.93701461]\n",
            " [ 1.82982061 -0.35363241  1.68595471 ...  1.0870843  -0.24388967\n",
            "   0.28118999]\n",
            " [ 1.57988811  0.45618695  1.56650313 ...  1.95500035  1.152255\n",
            "   0.20139121]\n",
            " ...\n",
            " [ 0.70228425  2.0455738   0.67267578 ...  0.41406869 -1.10454895\n",
            "  -0.31840916]\n",
            " [ 1.83834103  2.33645719  1.98252415 ...  2.28998549  1.91908301\n",
            "   2.21963528]\n",
            " [-1.80840125  1.22179204 -1.81438851 ... -1.74506282 -0.04813821\n",
            "  -0.75120669]]\n",
            "0      0\n",
            "1      0\n",
            "2      0\n",
            "3      0\n",
            "4      0\n",
            "      ..\n",
            "564    0\n",
            "565    0\n",
            "566    0\n",
            "567    0\n",
            "568    1\n",
            "Name: label, Length: 569, dtype: int64\n",
            "Total data:  (569, 30)\n",
            "Train data:  (455, 30)\n",
            "Test data:  (114, 30)\n"
          ]
        }
      ]
    },
    {
      "cell_type": "code",
      "source": [
        "import tensorflow as tf\n",
        "tf.random.set_seed(3)\n",
        "from tensorflow import keras"
      ],
      "metadata": {
        "id": "SpwAA-zr_pkk"
      },
      "execution_count": 5,
      "outputs": []
    },
    {
      "cell_type": "code",
      "source": [
        "model = keras.Sequential([\n",
        "    keras.layers.Flatten(input_shape = (30,)),\n",
        "    keras.layers.Dense(20, activation = 'relu'),\n",
        "    keras.layers.Dense(2, activation = \"sigmoid\")\n",
        "])\n"
      ],
      "metadata": {
        "id": "lRyerwY-CF79"
      },
      "execution_count": 6,
      "outputs": []
    },
    {
      "cell_type": "code",
      "source": [
        "model.compile(optimizer = \"adam\", loss = \"sparse_categorical_crossentropy\", metrics = [\"accuracy\"])\n"
      ],
      "metadata": {
        "id": "w8cVjgZ5Gk1R"
      },
      "execution_count": 7,
      "outputs": []
    },
    {
      "cell_type": "code",
      "source": [
        "history = model.fit(X_train, Y_train, validation_split = 0.1, epochs = 10)"
      ],
      "metadata": {
        "colab": {
          "base_uri": "https://localhost:8080/"
        },
        "id": "vMV_LDobHMGs",
        "outputId": "41d6d64b-df2c-446c-dcd6-6c02117bed5f"
      },
      "execution_count": 8,
      "outputs": [
        {
          "output_type": "stream",
          "name": "stdout",
          "text": [
            "Epoch 1/10\n",
            "13/13 [==============================] - 1s 19ms/step - loss: 0.8435 - accuracy: 0.4279 - val_loss: 0.6852 - val_accuracy: 0.5435\n",
            "Epoch 2/10\n",
            "13/13 [==============================] - 0s 6ms/step - loss: 0.6135 - accuracy: 0.6015 - val_loss: 0.4923 - val_accuracy: 0.7826\n",
            "Epoch 3/10\n",
            "13/13 [==============================] - 0s 6ms/step - loss: 0.4548 - accuracy: 0.8166 - val_loss: 0.3575 - val_accuracy: 0.8696\n",
            "Epoch 4/10\n",
            "13/13 [==============================] - 0s 8ms/step - loss: 0.3497 - accuracy: 0.8851 - val_loss: 0.2716 - val_accuracy: 0.9565\n",
            "Epoch 5/10\n",
            "13/13 [==============================] - 0s 7ms/step - loss: 0.2799 - accuracy: 0.9095 - val_loss: 0.2189 - val_accuracy: 0.9783\n",
            "Epoch 6/10\n",
            "13/13 [==============================] - 0s 6ms/step - loss: 0.2340 - accuracy: 0.9267 - val_loss: 0.1850 - val_accuracy: 0.9783\n",
            "Epoch 7/10\n",
            "13/13 [==============================] - 0s 7ms/step - loss: 0.2012 - accuracy: 0.9413 - val_loss: 0.1621 - val_accuracy: 0.9783\n",
            "Epoch 8/10\n",
            "13/13 [==============================] - 0s 6ms/step - loss: 0.1767 - accuracy: 0.9413 - val_loss: 0.1456 - val_accuracy: 0.9783\n",
            "Epoch 9/10\n",
            "13/13 [==============================] - 0s 6ms/step - loss: 0.1579 - accuracy: 0.9511 - val_loss: 0.1329 - val_accuracy: 0.9783\n",
            "Epoch 10/10\n",
            "13/13 [==============================] - 0s 6ms/step - loss: 0.1424 - accuracy: 0.9535 - val_loss: 0.1238 - val_accuracy: 0.9783\n"
          ]
        }
      ]
    },
    {
      "cell_type": "code",
      "source": [
        "plt.plot(history.history[\"accuracy\"])\n",
        "plt.plot(history.history[\"val_accuracy\"])\n",
        "\n",
        "plt.title(\"Model Accuracy\")\n",
        "plt.ylabel(\"accuracy\")\n",
        "plt.xlabel(\"epoch\")\n",
        "\n",
        "plt.legend([\"training\", \"validation\"],loc = \"lower right\")"
      ],
      "metadata": {
        "colab": {
          "base_uri": "https://localhost:8080/",
          "height": 490
        },
        "id": "rVsxNvUlHVU3",
        "outputId": "251672a0-54e6-4fed-99cb-fd60ed8d7524"
      },
      "execution_count": 9,
      "outputs": [
        {
          "output_type": "execute_result",
          "data": {
            "text/plain": [
              "<matplotlib.legend.Legend at 0x79e448573ac0>"
            ]
          },
          "metadata": {},
          "execution_count": 9
        },
        {
          "output_type": "display_data",
          "data": {
            "text/plain": [
              "<Figure size 640x480 with 1 Axes>"
            ],
            "image/png": "[encoded data removed]"
          },
          "metadata": {}
        }
      ]
    },
    {
      "cell_type": "code",
      "source": [
        "plt.plot(history.history[\"loss\"])\n",
        "plt.plot(history.history[\"val_loss\"])\n",
        "\n",
        "plt.title(\"Model Loss\")\n",
        "plt.ylabel(\"loss\")\n",
        "plt.xlabel(\"epoch\")\n",
        "\n",
        "plt.legend([\"training\",\"validation\"], loc = \"upper right\")"
      ],
      "metadata": {
        "colab": {
          "base_uri": "https://localhost:8080/",
          "height": 490
        },
        "id": "QPMkq3cdHyr8",
        "outputId": "8147ebca-18b1-4b9c-8b68-dc4d6c5c469f"
      },
      "execution_count": 10,
      "outputs": [
        {
          "output_type": "execute_result",
          "data": {
            "text/plain": [
              "<matplotlib.legend.Legend at 0x79e44b854220>"
            ]
          },
          "metadata": {},
          "execution_count": 10
        },
        {
          "output_type": "display_data",
          "data": {
            "text/plain": [
              "<Figure size 640x480 with 1 Axes>"
            ],
            "image/png": "[encoded data removed]"
          },
          "metadata": {}
        }
      ]
    },
    {
      "cell_type": "code",
      "source": [
        "loss, accuracy = model.evaluate(X_test, Y_test)"
      ],
      "metadata": {
        "colab": {
          "base_uri": "https://localhost:8080/"
        },
        "id": "2boVwr8YIu3S",
        "outputId": "06770cb5-56f5-48b1-fc51-ab904700fb3d"
      },
      "execution_count": 11,
      "outputs": [
        {
          "output_type": "stream",
          "name": "stdout",
          "text": [
            "4/4 [==============================] - 0s 4ms/step - loss: 0.1415 - accuracy: 0.9737\n"
          ]
        }
      ]
    },
    {
      "cell_type": "code",
      "source": [
        "print(accuracy)"
      ],
      "metadata": {
        "colab": {
          "base_uri": "https://localhost:8080/"
        },
        "id": "MU4En7akI7fy",
        "outputId": "176ef2b7-31e1-4f64-a297-cc10b117c702"
      },
      "execution_count": 12,
      "outputs": [
        {
          "output_type": "stream",
          "name": "stdout",
          "text": [
            "0.9736841917037964\n"
          ]
        }
      ]
    },
    {
      "cell_type": "code",
      "source": [
        "print(X_test.shape)"
      ],
      "metadata": {
        "colab": {
          "base_uri": "https://localhost:8080/"
        },
        "id": "gLvD74MyI9S_",
        "outputId": "59c8cc7d-26fe-455a-ebd4-0d5f3790f67e"
      },
      "execution_count": 13,
      "outputs": [
        {
          "output_type": "stream",
          "name": "stdout",
          "text": [
            "(114, 30)\n"
          ]
        }
      ]
    },
    {
      "cell_type": "code",
      "source": [
        "print(X_test[0])"
      ],
      "metadata": {
        "colab": {
          "base_uri": "https://localhost:8080/"
        },
        "id": "QaGFkFD5JC55",
        "outputId": "27a476d6-e780-4ef3-99aa-abddf20eea5d"
      },
      "execution_count": 14,
      "outputs": [
        {
          "output_type": "stream",
          "name": "stdout",
          "text": [
            "[-0.05319351 -1.42408329 -0.06833592 -0.17260604  2.02392516 -0.1286992\n",
            "  0.15317924  0.44445235  0.60014708  0.25125475  0.50863855  2.57300558\n",
            "  0.60638318  0.09687179  0.99971423  0.3907719   0.52176832  2.71439431\n",
            " -0.41073446  0.65554594 -0.3415184  -1.67683887 -0.3795077  -0.3995439\n",
            "  0.30822795 -0.74978636 -0.55789673 -0.19956318 -1.19838023 -0.63261684]\n"
          ]
        }
      ]
    },
    {
      "cell_type": "code",
      "source": [
        "Y_pred = model.predict(X_test)"
      ],
      "metadata": {
        "colab": {
          "base_uri": "https://localhost:8080/"
        },
        "id": "_7FwHUAzJFnx",
        "outputId": "afe71226-b859-4480-849b-d954b3674926"
      },
      "execution_count": 15,
      "outputs": [
        {
          "output_type": "stream",
          "name": "stdout",
          "text": [
            "4/4 [==============================] - 0s 2ms/step\n"
          ]
        }
      ]
    },
    {
      "cell_type": "code",
      "source": [
        "print(Y_pred.shape)"
      ],
      "metadata": {
        "colab": {
          "base_uri": "https://localhost:8080/"
        },
        "id": "g3x1LO95JJog",
        "outputId": "7dcbbb3c-34ba-4293-d207-8f3e7ed1e130"
      },
      "execution_count": 16,
      "outputs": [
        {
          "output_type": "stream",
          "name": "stdout",
          "text": [
            "(114, 2)\n"
          ]
        }
      ]
    },
    {
      "cell_type": "code",
      "source": [
        "print(Y_pred)"
      ],
      "metadata": {
        "colab": {
          "base_uri": "https://localhost:8080/"
        },
        "id": "SUKjE_SyJNqP",
        "outputId": "421f2d67-9860-4b40-f814-d6d52a8aa873"
      },
      "execution_count": 17,
      "outputs": [
        {
          "output_type": "stream",
          "name": "stdout",
          "text": [
            "[[0.6228867  0.90692544]\n",
            " [0.52484566 0.74169475]\n",
            " [0.41461775 0.9459329 ]\n",
            " [0.999997   0.0480326 ]\n",
            " [0.616099   0.6192551 ]\n",
            " [0.9952649  0.06871875]\n",
            " [0.40961057 0.78867024]\n",
            " [0.57449377 0.97485536]\n",
            " [0.5920408  0.93291086]\n",
            " [0.6044824  0.9403389 ]\n",
            " [0.60989314 0.6484245 ]\n",
            " [0.4480621  0.81798416]\n",
            " [0.3700297  0.93454415]\n",
            " [0.5302597  0.8556264 ]\n",
            " [0.6080555  0.9499592 ]\n",
            " [0.99218136 0.5498369 ]\n",
            " [0.52150005 0.95140487]\n",
            " [0.30903128 0.8607682 ]\n",
            " [0.65384    0.9588401 ]\n",
            " [0.98437697 0.11037012]\n",
            " [0.30660844 0.06977162]\n",
            " [0.31316486 0.94899064]\n",
            " [0.41482934 0.95309824]\n",
            " [0.4340838  0.96079266]\n",
            " [0.40043804 0.80013543]\n",
            " [0.97809565 0.16045067]\n",
            " [0.397077   0.841298  ]\n",
            " [0.4713876  0.72174835]\n",
            " [0.98695046 0.2544099 ]\n",
            " [0.9819174  0.27796507]\n",
            " [0.5477312  0.8347806 ]\n",
            " [0.6184936  0.92148525]\n",
            " [0.42254877 0.85824376]\n",
            " [0.99988747 0.00537751]\n",
            " [0.98710567 0.07411702]\n",
            " [0.24713996 0.77407914]\n",
            " [0.40665212 0.994099  ]\n",
            " [0.51372653 0.9348603 ]\n",
            " [0.36418822 0.97189003]\n",
            " [0.46559885 0.906118  ]\n",
            " [0.9997977  0.02997189]\n",
            " [0.9019132  0.4186652 ]\n",
            " [0.201405   0.9928295 ]\n",
            " [0.205627   0.832411  ]\n",
            " [0.7996918  0.20851713]\n",
            " [0.5148867  0.94543284]\n",
            " [0.32951832 0.9470536 ]\n",
            " [0.47886392 0.9337047 ]\n",
            " [0.99996096 0.0698612 ]\n",
            " [0.9734033  0.21357474]\n",
            " [0.56131077 0.92091584]\n",
            " [0.86855024 0.47470036]\n",
            " [0.6258538  0.73146206]\n",
            " [0.5045062  0.96614903]\n",
            " [0.38127154 0.9483225 ]\n",
            " [0.66649693 0.5246998 ]\n",
            " [0.30239752 0.9566695 ]\n",
            " [0.46963465 0.95321167]\n",
            " [0.97520256 0.55570483]\n",
            " [0.2912451  0.80588925]\n",
            " [0.50165516 0.6880231 ]\n",
            " [0.8539478  0.1990575 ]\n",
            " [0.48017693 0.97629243]\n",
            " [0.9889081  0.11063859]\n",
            " [0.9783249  0.4290949 ]\n",
            " [0.07579416 0.17632745]\n",
            " [0.9990146  0.05816483]\n",
            " [0.9860473  0.51261204]\n",
            " [0.7026679  0.9084096 ]\n",
            " [0.8801229  0.7265483 ]\n",
            " [0.8811238  0.42667553]\n",
            " [0.9980588  0.362808  ]\n",
            " [0.689901   0.9467313 ]\n",
            " [0.89798766 0.23990533]\n",
            " [0.43286622 0.979464  ]\n",
            " [0.72723085 0.28340483]\n",
            " [0.36955902 0.95026386]\n",
            " [0.53321725 0.90367347]\n",
            " [0.7600286  0.83380085]\n",
            " [0.6671862  0.386075  ]\n",
            " [0.9864423  0.24917841]\n",
            " [0.8539416  0.18117918]\n",
            " [0.96382326 0.14847389]\n",
            " [0.43288928 0.79768515]\n",
            " [0.50300485 0.8921758 ]\n",
            " [0.6594203  0.840759  ]\n",
            " [0.08830392 0.6448721 ]\n",
            " [0.31679815 0.86364233]\n",
            " [0.34121457 0.6788783 ]\n",
            " [0.9976366  0.1070244 ]\n",
            " [0.43494698 0.9128111 ]\n",
            " [0.40124217 0.9276743 ]\n",
            " [0.16543408 0.56444776]\n",
            " [0.97790563 0.24211043]\n",
            " [0.7657731  0.4694884 ]\n",
            " [0.39041263 0.83574206]\n",
            " [0.993923   0.1665342 ]\n",
            " [0.98785627 0.28809747]\n",
            " [0.54473543 0.9312469 ]\n",
            " [0.5670062  0.979181  ]\n",
            " [0.51474917 0.98313   ]\n",
            " [0.7765113  0.40712553]\n",
            " [0.99997205 0.08947729]\n",
            " [0.9993959  0.07890364]\n",
            " [0.431879   0.9378668 ]\n",
            " [0.33840066 0.9099092 ]\n",
            " [0.09645467 0.84724593]\n",
            " [0.20986757 0.85377544]\n",
            " [0.2693312  0.95676094]\n",
            " [0.58167505 0.92238235]\n",
            " [0.99151784 0.12676685]\n",
            " [0.99863744 0.07583679]\n",
            " [0.8898097  0.83919734]\n",
            " [0.95299864 0.24743894]]\n"
          ]
        }
      ]
    },
    {
      "cell_type": "code",
      "source": [
        "Y_pred_labels = [np.argmax(i) for i in Y_pred]\n"
      ],
      "metadata": {
        "id": "-yIVw5bPJYPs"
      },
      "execution_count": 18,
      "outputs": []
    },
    {
      "cell_type": "code",
      "source": [
        "print(Y_pred_labels)\n"
      ],
      "metadata": {
        "colab": {
          "base_uri": "https://localhost:8080/"
        },
        "id": "fY6RGZMtKBTh",
        "outputId": "6c7d4536-f295-4c0b-ad4e-f8b6be3ade10"
      },
      "execution_count": 19,
      "outputs": [
        {
          "output_type": "stream",
          "name": "stdout",
          "text": [
            "[1, 1, 1, 0, 1, 0, 1, 1, 1, 1, 1, 1, 1, 1, 1, 0, 1, 1, 1, 0, 0, 1, 1, 1, 1, 0, 1, 1, 0, 0, 1, 1, 1, 0, 0, 1, 1, 1, 1, 1, 0, 0, 1, 1, 0, 1, 1, 1, 0, 0, 1, 0, 1, 1, 1, 0, 1, 1, 0, 1, 1, 0, 1, 0, 0, 1, 0, 0, 1, 0, 0, 0, 1, 0, 1, 0, 1, 1, 1, 0, 0, 0, 0, 1, 1, 1, 1, 1, 1, 0, 1, 1, 1, 0, 0, 1, 0, 0, 1, 1, 1, 0, 0, 0, 1, 1, 1, 1, 1, 1, 0, 0, 0, 0]\n"
          ]
        }
      ]
    },
    {
      "cell_type": "code",
      "source": [
        "sample = data_frame.drop(\"label\", axis = 1).iloc[0].values\n",
        "\n",
        "input_data = (sample)\n",
        "print(input_data)\n",
        "\n",
        "# reshape the array as we are predicting for one instance\n",
        "input_data_reshaped = input_data.reshape(1, -1)\n",
        "\n",
        "# standardize the input data as model is trained as such\n",
        "std_data = scaler.transform(input_data_reshaped)\n",
        "print(std_data)\n",
        "\n",
        "prediction = model.predict(std_data)\n",
        "print(prediction)\n",
        "\n",
        "predictin_label = [np.argmax(prediction)]\n",
        "print(predictin_label)\n",
        "\n",
        "if(predictin_label[0] == 0):\n",
        "    print(\"The tumor is Malignant.\")\n",
        "else:\n",
        "    print(\"The tumor is Benign.\")\n",
        "\n",
        "input_data = X_test[0]\n",
        "print(input_data)\n",
        "\n",
        "# reshape the array as we are predicting for one instance\n",
        "input_data_reshaped = input_data.reshape(1, -1)\n",
        "\n",
        "print(input_data_reshaped)\n",
        "\n",
        "prediction = model.predict(input_data_reshaped)\n",
        "print(prediction)\n",
        "\n",
        "predictin_label = [np.argmax(prediction)]\n",
        "print(predictin_label)\n",
        "\n",
        "if(predictin_label[0] == 0):\n",
        "    print(\"The tumor is Malignant.\")\n",
        "else:\n",
        "    print(\"The tumor is Benign.\")"
      ],
      "metadata": {
        "colab": {
          "base_uri": "https://localhost:8080/"
        },
        "id": "H90qmLZzf7l7",
        "outputId": "cb6a8bfd-75e8-474e-cd12-ed97060b0a92"
      },
      "execution_count": 20,
      "outputs": [
        {
          "output_type": "stream",
          "name": "stdout",
          "text": [
            "[1.799e+01 1.038e+01 1.228e+02 1.001e+03 1.184e-01 2.776e-01 3.001e-01\n",
            " 1.471e-01 2.419e-01 7.871e-02 1.095e+00 9.053e-01 8.589e+00 1.534e+02\n",
            " 6.399e-03 4.904e-02 5.373e-02 1.587e-02 3.003e-02 6.193e-03 2.538e+01\n",
            " 1.733e+01 1.846e+02 2.019e+03 1.622e-01 6.656e-01 7.119e-01 2.654e-01\n",
            " 4.601e-01 1.189e-01]\n",
            "[[ 1.09706398 -2.07333501  1.26993369  0.9843749   1.56846633  3.28351467\n",
            "   2.65287398  2.53247522  2.21751501  2.25574689  2.48973393 -0.56526506\n",
            "   2.83303087  2.48757756 -0.21400165  1.31686157  0.72402616  0.66081994\n",
            "   1.14875667  0.90708308  1.88668963 -1.35929347  2.30360062  2.00123749\n",
            "   1.30768627  2.61666502  2.10952635  2.29607613  2.75062224  1.93701461]]\n",
            "1/1 [==============================] - 0s 19ms/step\n",
            "[[0.9998818  0.17775305]]\n",
            "[0]\n",
            "The tumor is Malignant.\n",
            "[-0.05319351 -1.42408329 -0.06833592 -0.17260604  2.02392516 -0.1286992\n",
            "  0.15317924  0.44445235  0.60014708  0.25125475  0.50863855  2.57300558\n",
            "  0.60638318  0.09687179  0.99971423  0.3907719   0.52176832  2.71439431\n",
            " -0.41073446  0.65554594 -0.3415184  -1.67683887 -0.3795077  -0.3995439\n",
            "  0.30822795 -0.74978636 -0.55789673 -0.19956318 -1.19838023 -0.63261684]\n",
            "[[-0.05319351 -1.42408329 -0.06833592 -0.17260604  2.02392516 -0.1286992\n",
            "   0.15317924  0.44445235  0.60014708  0.25125475  0.50863855  2.57300558\n",
            "   0.60638318  0.09687179  0.99971423  0.3907719   0.52176832  2.71439431\n",
            "  -0.41073446  0.65554594 -0.3415184  -1.67683887 -0.3795077  -0.3995439\n",
            "   0.30822795 -0.74978636 -0.55789673 -0.19956318 -1.19838023 -0.63261684]]\n",
            "1/1 [==============================] - 0s 19ms/step\n",
            "[[0.6228868 0.9069255]]\n",
            "[1]\n",
            "The tumor is Benign.\n"
          ]
        },
        {
          "output_type": "stream",
          "name": "stderr",
          "text": [
            "/usr/local/lib/python3.10/dist-packages/sklearn/base.py:439: UserWarning: X does not have valid feature names, but StandardScaler was fitted with feature names\n",
            "  warnings.warn(\n"
          ]
        }
      ]
    }
  ]
}